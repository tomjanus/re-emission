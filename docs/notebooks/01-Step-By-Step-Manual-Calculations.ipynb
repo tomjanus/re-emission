{
 "cells": [
  {
   "cell_type": "markdown",
   "metadata": {},
   "source": [
    "</div>\n",
    "<div>\n",
    "<img src=\"graphics/logo-banner-bw.png\" width=\"500\"/>\n",
    "</div>\n",
    "<div>\n",
    "    <h1 style=\"text-align:center\"> A Step-By-Step Guide to GHG Calculations with RE-Emission </h1>\n",
    "    <h3> This notebook demonstrates how to: </h3>\n",
    " <ol>\n",
    "  <li>Manually construct input data structures for a hypotethical reservoir </li>\n",
    "  <li>Instantiate Catchment and Reservoir objects </li>\n",
    "     <li>Calculate $CO_2$, $CH_4$ and $N_2O$ <b>emission factors</b> </li>\n",
    "  <li>Calculate $CO_2$, $CH_4$ and $N_2O$ <b>emission profile</b> </li>\n",
    "</ol> \n",
    "</div>"
   ]
  },
  {
   "cell_type": "markdown",
   "metadata": {},
   "source": [
    "<!--NAVIGATION-->\n",
    "<font size=\"3\"> < [Contents](index.ipynb) | [Automatic Calculation of GHG Emissions](02-Automatic-Calculation-Of-Emissions-For-Batches-Of-Reservoirs.ipynb) > </font>\n",
    "\n",
    "<a href=\"https://colab.research.google.com/github/tomjanus/re-emission/blob/master/docs/notebooks/01-Step-By-Step-Manual-Calculations.ipynb\"><img align=\"left\" src=\"https://colab.research.google.com/assets/colab-badge.svg\" alt=\"Open in Colab\" title=\"Open and Execute in Google Colaboratory\"></a>"
   ]
  },
  {
   "cell_type": "markdown",
   "metadata": {},
   "source": [
    "### Import the required libraries and RE-Emission classes"
   ]
  },
  {
   "cell_type": "code",
   "execution_count": 8,
   "metadata": {},
   "outputs": [],
   "source": [
    "import sys\n",
    "import matplotlib.pyplot as plt\n",
    "try:\n",
    "    import reemission\n",
    "except ImportError:\n",
    "    %pip install git+https://github.com/tomjanus/reemission.git --quiet\n",
    "# Import from the temperature module\n",
    "from reemission.temperature import MonthlyTemperature\n",
    "# Import from the emissions module\n",
    "from reemission.emissions import CarbonDioxideEmission, NitrousOxideEmission, MethaneEmission\n",
    "# Import from the constants module\n",
    "from reemission.constants import Landuse, Climate, SoilType, Biome, TreatmentFactor, LanduseIntensity\n",
    "# Import from the catchment module\n",
    "from reemission.catchment import Catchment\n",
    "# Import from the reservoir module\n",
    "from reemission.reservoir import Reservoir\n",
    "# Import from the biogenic module\n",
    "from reemission.biogenic import BiogenicFactors"
   ]
  },
  {
   "cell_type": "code",
   "execution_count": 9,
   "metadata": {},
   "outputs": [
    {
     "data": {
      "text/plain": [
       "False"
      ]
     },
     "execution_count": 9,
     "metadata": {},
     "output_type": "execute_result"
    }
   ],
   "source": [
    "import yaml\n",
    "from packaging import version\n",
    "version.parse(yaml.__version__) < version.parse(\"5.1\")"
   ]
  },
  {
   "cell_type": "markdown",
   "metadata": {},
   "source": [
    "### 1. Prepare Input Data"
   ]
  },
  {
   "cell_type": "code",
   "execution_count": 9,
   "metadata": {},
   "outputs": [],
   "source": [
    "# Define a typical monthly temperature profile in the location where reservoir is situated\n",
    "mt = MonthlyTemperature([10.56,11.99,15.46,18.29,20.79,22.09,22.46,22.66,21.93,19.33,15.03,11.66])\n",
    "\n",
    "# Define categorical properties of the catchment.\n",
    "# These properties define the biome, climate, type of soil, degree of wastewater treatment in the area\n",
    "# and agricultural land use intensity\n",
    "biogenic_factors = BiogenicFactors(biome = Biome.TROPICALMOISTBROADLEAF,\n",
    "                                   climate = Climate.TROPICAL,\n",
    "                                   soil_type=SoilType.MINERAL,\n",
    "                                   treatment_factor = TreatmentFactor.NONE,\n",
    "                                   landuse_intensity = LanduseIntensity.LOW)\n",
    "\n",
    "# Define area fractions allocated to different available landuses\n",
    "# The supported landuses are:\n",
    "# 'bare', 'snow_ice', 'urban', 'water', 'wetlands', 'crops', 'shrubs', 'forest'\n",
    "# and can be listed as follows:\n",
    "# landuses = [landuse.value for landuse in Landuse]\n",
    "catchment_area_fractions = [0.0, 0.0, 0.0, 0.0, 0.0, 0.01092, 0.11996, 0.867257]\n",
    "reservoir_area_fractions = [0.0, 0.0, 0.0, 0.0, 0.0, 0.0, 0.0, 1.0]\n",
    "\n",
    "# Define a dictionary of catchment inputs\n",
    "catchment_inputs = {'runoff': 1685.5619, 'area': 78203.0, 'population': 8463, \n",
    "                    'area_fractions': catchment_area_fractions, 'slope': 8.0, 'precip': 2000.0, \n",
    "                    'etransp': 400.0, 'soil_wetness': 140.0, 'biogenic_factors': biogenic_factors}\n",
    "# Define a dictionary of reservoir inputs\n",
    "reservoir_inputs = {'volume': 7663812, 'area': 0.56470, 'max_depth': 32.0, 'mean_depth': 13.6,\n",
    "                   'area_fractions': reservoir_area_fractions,\n",
    "                   'soil_carbon': 10.228}\n",
    "# Define a vector of years for which emission profile value shall be calculated\n",
    "year_profile = (1, 5, 10, 20, 30, 40, 50, 65, 80, 100)"
   ]
  },
  {
   "cell_type": "markdown",
   "metadata": {},
   "source": [
    "### 2. Initialize Catchment and Reservoir Objects"
   ]
  },
  {
   "cell_type": "code",
   "execution_count": 10,
   "metadata": {},
   "outputs": [],
   "source": [
    "catchment_1 = Catchment(**catchment_inputs)\n",
    "reservoir_1 = Reservoir(**reservoir_inputs, inflow_rate=catchment_1.discharge)"
   ]
  },
  {
   "cell_type": "markdown",
   "metadata": {},
   "source": [
    "### 3. Calculate $CO_2$ emissions"
   ]
  },
  {
   "cell_type": "code",
   "execution_count": 11,
   "metadata": {},
   "outputs": [
    {
     "name": "stdout",
     "output_type": "stream",
     "text": [
      "CO2 emission profile (g CO2eq m-2 yr-1): \n",
      "* Year: 1 \t Emission: 735.43\n",
      "* Year: 5 \t Emission: 421.39\n",
      "* Year: 10 \t Emission: 329.76\n",
      "* Year: 20 \t Emission: 256.87\n",
      "* Year: 30 \t Emission: 221.35\n",
      "* Year: 40 \t Emission: 198.88\n",
      "* Year: 50 \t Emission: 182.86\n",
      "* Year: 65 \t Emission: 165.48\n",
      "* Year: 80 \t Emission: 152.74\n",
      "* Year: 100 \t Emission: 140.00\n"
     ]
    }
   ],
   "source": [
    "# Instantiate CarbonDioxideEmission object with catchment and reservoir input data and temperature vector\n",
    "em_co2 = CarbonDioxideEmission(\n",
    "    catchment=catchment_1, reservoir=reservoir_1,\n",
    "    eff_temp=mt.eff_temp(gas='co2'), p_calc_method='g-res')\n",
    "# Calculate CO2 emission profile and CO2 emission factor, respectively\n",
    "co2_emission_profile = em_co2.profile(years = year_profile)\n",
    "co2_emission_factor = em_co2.factor(number_of_years = year_profile[-1])\n",
    "print('CO2 emission profile (g CO2eq m-2 yr-1): ', *[\n",
    "    \"Year: %d \\t Emission: %.2f\" % (year, flux) for year, flux in zip(\n",
    "        year_profile, co2_emission_profile)], sep='\\n* ')   "
   ]
  },
  {
   "cell_type": "code",
   "execution_count": null,
   "metadata": {},
   "outputs": [],
   "source": [
    "# Plot the CO2 emission profile\n",
    "plt.plot(year_profile, co2_emission_profile, 'r-o') \n",
    "plt.xlabel('Years') \n",
    "plt.ylabel('Emissions, g CO2eq m-2 yr-1') \n",
    "plt.title('CO2 emission profile for hypothetical catchment and reservoir data') \n",
    "plt.show()"
   ]
  },
  {
   "cell_type": "code",
   "execution_count": null,
   "metadata": {},
   "outputs": [],
   "source": [
    "print('CO2 emission factor (g CO2eq m-2 yr-1): ', \"%.2f\" % co2_emission_factor)"
   ]
  },
  {
   "cell_type": "markdown",
   "metadata": {},
   "source": [
    "### 4. Calculate $N_2O$ emissions"
   ]
  },
  {
   "cell_type": "code",
   "execution_count": null,
   "metadata": {},
   "outputs": [],
   "source": [
    "# Instantiate NitrousOxideEmission object with catchment and reservoir input data\n",
    "em_n2o = NitrousOxideEmission(\n",
    "    catchment=catchment_1, reservoir=reservoir_1, model='model 1')\n",
    "# Calculate N2O emission profile and CO2 emission factor, respectively\n",
    "# (Note that N2O emission profile is flat because N2O emission does not have time-dependency)\n",
    "n2o_emission_profile = em_n2o.profile(years = year_profile)\n",
    "n2o_emission_factor = em_n2o.factor()\n",
    "print('N2O emission profile (g CO2eq m-2 yr-1): ', *[\n",
    "    \"Year: %d \\t Emission: %.2f\" % (year, flux) for year, flux in zip(\n",
    "        year_profile, n2o_emission_profile)], sep='\\n* ')   "
   ]
  },
  {
   "cell_type": "code",
   "execution_count": null,
   "metadata": {},
   "outputs": [],
   "source": [
    "# Plot the N2O emission profile\n",
    "plt.plot(year_profile, n2o_emission_profile, 'r-o') \n",
    "plt.xlabel('Years') \n",
    "plt.ylabel('Emissions, g CO2eq m-2 yr-1') \n",
    "plt.title('N2O emission profile for hypothetical catchment and reservoir data') \n",
    "plt.show()"
   ]
  },
  {
   "cell_type": "code",
   "execution_count": null,
   "metadata": {},
   "outputs": [],
   "source": [
    "print('N2O emission factor (g CO2eq m-2 yr-1): ', \"%.2f\" % n2o_emission_factor)"
   ]
  },
  {
   "cell_type": "markdown",
   "metadata": {},
   "source": [
    "### 4 a) Calculate downstream TN load and concentration from the reservoir"
   ]
  },
  {
   "cell_type": "code",
   "execution_count": null,
   "metadata": {},
   "outputs": [],
   "source": [
    "# For TN we can calculate downstream TN load and concentration in the effluent from the reservoir\n",
    "# This feature can be used to evaluate emissions taking into account nitrogen mass balance in upstream\n",
    "# reservoirs on the emissions in the reservoirs downstream\n",
    "tn_downstream_load = em_n2o.nitrogen_downstream_load()\n",
    "tn_downstream_conc = em_n2o.nitrogen_downstream_conc()\n",
    "print('TN downstream load (kg N yr-1): ', \"%.1f\" % tn_downstream_load)\n",
    "print('TN downstream concentration (mg / L): ', \"%.4f\" % tn_downstream_conc)"
   ]
  },
  {
   "cell_type": "markdown",
   "metadata": {},
   "source": [
    "### 5. Calculate $CH_4$ emissions"
   ]
  },
  {
   "cell_type": "code",
   "execution_count": null,
   "metadata": {},
   "outputs": [],
   "source": [
    "# Instantiate MethaneEmission object with catchment and reservoir input data, montnly temperature\n",
    "# profile and mean irradiation\n",
    "em_ch4 = MethaneEmission(catchment=catchment_1, reservoir=reservoir_1, monthly_temp=mt, mean_ir=4.46)\n",
    "# Calculate CH4 emission profile and CH4 emission factor, respectively\n",
    "ch4_emission_profile = em_ch4.profile(years = year_profile)\n",
    "ch4_emission_factor = em_ch4.factor()\n",
    "print('CH4 emission profile (g CO2eq m-2 yr-1): ', *[\n",
    "    \"Year: %d \\t Emission: %.2f\" % (year, flux) for year, flux in zip(\n",
    "        year_profile, ch4_emission_profile)], sep='\\n* ') "
   ]
  },
  {
   "cell_type": "code",
   "execution_count": null,
   "metadata": {},
   "outputs": [],
   "source": [
    "# Plot the CH4 emission profile\n",
    "plt.plot(year_profile, ch4_emission_profile, 'r-o') \n",
    "plt.xlabel('Years') \n",
    "plt.ylabel('Emissions, g CO2eq m-2 yr-1') \n",
    "plt.title('CH4 emission profile for hypothetical catchment and reservoir data') \n",
    "plt.show()"
   ]
  },
  {
   "cell_type": "code",
   "execution_count": null,
   "metadata": {},
   "outputs": [],
   "source": [
    "print('CH4 emission factor (g CO2eq m-2 yr-1): ', \"%.2f\" % ch4_emission_factor)"
   ]
  },
  {
   "cell_type": "markdown",
   "metadata": {},
   "source": [
    "<a href=\"https://colab.research.google.com/github/tomjanus/re-emission/blob/master/docs/notebooks/01-Step-By-Step-Manual-Calculations.ipynb\"><img align=\"left\" src=\"https://colab.research.google.com/assets/colab-badge.svg\" alt=\"Open in Colab\" title=\"Open and Execute in Google Colaboratory\"></a>"
   ]
  }
 ],
 "metadata": {
  "kernelspec": {
   "display_name": "Python 3",
   "language": "python",
   "name": "python3"
  },
  "language_info": {
   "codemirror_mode": {
    "name": "ipython",
    "version": 3
   },
   "file_extension": ".py",
   "mimetype": "text/x-python",
   "name": "python",
   "nbconvert_exporter": "python",
   "pygments_lexer": "ipython3",
   "version": "3.8.10"
  },
  "latex_envs": {
   "LaTeX_envs_menu_present": true,
   "autoclose": false,
   "autocomplete": true,
   "bibliofile": "biblio.bib",
   "cite_by": "apalike",
   "current_citInitial": 1,
   "eqLabelWithNumbers": true,
   "eqNumInitial": 1,
   "hotkeys": {
    "equation": "Ctrl-E",
    "itemize": "Ctrl-I"
   },
   "labels_anchors": false,
   "latex_user_defs": false,
   "report_style_numbering": false,
   "user_envs_cfg": false
  },
  "varInspector": {
   "cols": {
    "lenName": 16,
    "lenType": 16,
    "lenVar": 40
   },
   "kernels_config": {
    "python": {
     "delete_cmd_postfix": "",
     "delete_cmd_prefix": "del ",
     "library": "var_list.py",
     "varRefreshCmd": "print(var_dic_list())"
    },
    "r": {
     "delete_cmd_postfix": ") ",
     "delete_cmd_prefix": "rm(",
     "library": "var_list.r",
     "varRefreshCmd": "cat(var_dic_list()) "
    }
   },
   "types_to_exclude": [
    "module",
    "function",
    "builtin_function_or_method",
    "instance",
    "_Feature"
   ],
   "window_display": false
  }
 },
 "nbformat": 4,
 "nbformat_minor": 4
}
