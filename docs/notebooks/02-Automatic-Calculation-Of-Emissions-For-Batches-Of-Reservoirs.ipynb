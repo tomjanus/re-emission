{
 "cells": [
  {
   "cell_type": "markdown",
   "metadata": {},
   "source": [
    "</div>\n",
    "<div>\n",
    "<img src=\"graphics/logo-banner-bw.png\" width=\"500\"/>\n",
    "</div>\n",
    "<div>\n",
    "    <h1 style=\"text-align:center\"> Automatic calculation of emissions for batches of reservoirs</h1>\n",
    "    <h3 style=\"text-align:center\"> Input data is defined in JSON file whilst outputs data configuration is specified in YAML config file. </h3>\n",
    "    <h3> This notebook demonstrates how to: </h3>\n",
    " <ol>\n",
    "  <li>Read input data in JSON format and output configuration YAML file</li>\n",
    "  <li>Instantiate the emission model object from input data output configuration file</li>\n",
    "  <li>Calculate emissions</li>\n",
    "  <li>Display model ouptputs</li>\n",
    "</ol> \n",
    "</div>"
   ]
  },
  {
   "cell_type": "markdown",
   "metadata": {},
   "source": [
    "<!--NAVIGATION-->\n",
    "<font size=\"3\"> < [Manual Step-By-Step Calculations](01-Step-By-Step-Manual-Calculations.ipynb) | [Contents](index.ipynb) | [Saving Results To JSON](03-Saving-Results-To-JSON.ipynb) > </font>\n",
    "\n",
    "<a href=\"https://colab.research.google.com/github/tomjanus/re-emission/blob/master/notebooks/02-Automatic-Calculation-Of-Emissions-For-Batches-Of-Reservoirs.ipynb\"><img align=\"left\" src=\"https://colab.research.google.com/assets/colab-badge.svg\" alt=\"Open in Colab\" title=\"Open and Execute in Google Colaboratory\"></a>"
   ]
  },
  {
   "cell_type": "markdown",
   "metadata": {},
   "source": [
    "### Import the required libraries and RE-Emission classes"
   ]
  },
  {
   "cell_type": "code",
   "execution_count": null,
   "metadata": {},
   "outputs": [],
   "source": [
    "# Import from the model module\n",
    "from reemission.model import EmissionModel\n",
    "# Import from the input module\n",
    "from reemission.input import Inputs\n",
    "# Import from the presenter module\n",
    "from reemission.presenter import LatexWriter, JSONWriter"
   ]
  },
  {
   "cell_type": "markdown",
   "metadata": {},
   "source": [
    "### 1. Read input data and output configuration YAML file"
   ]
  },
  {
   "cell_type": "code",
   "execution_count": null,
   "metadata": {},
   "outputs": [],
   "source": [
    "input_data = Inputs.fromfile('../../tests/test_data/inputs.json')\n",
    "output_config = '../../src/reemission/config/outputs.yaml'"
   ]
  },
  {
   "cell_type": "markdown",
   "metadata": {},
   "source": [
    "### 2. Instantiate the emission model object from input data output configuration file"
   ]
  },
  {
   "cell_type": "code",
   "execution_count": null,
   "metadata": {},
   "outputs": [],
   "source": [
    "model = EmissionModel(inputs=input_data, config=output_config)"
   ]
  },
  {
   "cell_type": "markdown",
   "metadata": {},
   "source": [
    "### 3. Calculate emissions"
   ]
  },
  {
   "cell_type": "code",
   "execution_count": null,
   "metadata": {},
   "outputs": [],
   "source": [
    "model.calculate()"
   ]
  },
  {
   "cell_type": "markdown",
   "metadata": {},
   "source": [
    "### 4. Display outputs dictionary"
   ]
  },
  {
   "cell_type": "code",
   "execution_count": null,
   "metadata": {},
   "outputs": [],
   "source": [
    "model.outputs"
   ]
  },
  {
   "cell_type": "markdown",
   "metadata": {},
   "source": [
    "<a href=\"https://colab.research.google.com/github/tomjanus/re-emission/blob/master/notebooks/02-Automatic-Calculation-Of-Emissions-For-Batches-Of-Reservoirs.ipynb\"><img align=\"left\" src=\"https://colab.research.google.com/assets/colab-badge.svg\" alt=\"Open in Colab\" title=\"Open and Execute in Google Colaboratory\"></a>"
   ]
  }
 ],
 "metadata": {
  "kernelspec": {
   "display_name": "Python 3",
   "language": "python",
   "name": "python3"
  },
  "language_info": {
   "codemirror_mode": {
    "name": "ipython",
    "version": 3
   },
   "file_extension": ".py",
   "mimetype": "text/x-python",
   "name": "python",
   "nbconvert_exporter": "python",
   "pygments_lexer": "ipython3",
   "version": "3.8.10"
  }
 },
 "nbformat": 4,
 "nbformat_minor": 4
}
