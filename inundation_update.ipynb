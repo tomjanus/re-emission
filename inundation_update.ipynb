{
 "cells": [
  {
   "cell_type": "code",
   "execution_count": 1,
   "id": "9a0f4afe",
   "metadata": {},
   "outputs": [
    {
     "name": "stdout",
     "output_type": "stream",
     "text": [
      "8,inproc://10.0.85.1/69561/1\n"
     ]
    }
   ],
   "source": [
    "from src.inundation import inundation_util\n",
    "from src.inundation.inundation_util import watershed\n",
    "import geopandas as gpd\n",
    "import os\n",
    "import pathlib"
   ]
  },
  {
   "cell_type": "markdown",
   "id": "2c40823f",
   "metadata": {},
   "source": [
    "## Configuration steps"
   ]
  },
  {
   "cell_type": "code",
   "execution_count": 2,
   "id": "7994a9d0",
   "metadata": {},
   "outputs": [],
   "source": [
    "usage = watershed(mother_directory='/home/jojo/futuredam_update/inundation_code/dam_data/', \n",
    "               basin_directory='sel_basin',\n",
    "               result_folder = 'result_2',\n",
    "               snap_dist = 0.6, \n",
    "               stream_order = 10,\n",
    "               upscale_factor=1/15 )"
   ]
  },
  {
   "cell_type": "markdown",
   "id": "b76d288a",
   "metadata": {},
   "source": [
    "## Dams selections"
   ]
  },
  {
   "cell_type": "code",
   "execution_count": 3,
   "id": "7a4d6f0f",
   "metadata": {},
   "outputs": [
    {
     "name": "stdout",
     "output_type": "stream",
     "text": [
      "Data contains 33 planned/identified storage dams\n",
      "Saved new dam data to a file IFC_points.shp in directory /home/jojo/futuredam_update/inundation_code/dam_data/IFC_locations\n"
     ]
    }
   ],
   "source": [
    "dams = gpd.read_file(usage.original_dams_shape_path)\n",
    "hutgyi_dam = dams[dams['DAM_NAME'] == 'Hutgyi']\n",
    "dams = dams[(dams['Status 2']!='E') & (dams['RoR or Sto']=='S') & (dams['DAM_NAME']!='Suo Lwe')]\n",
    "dams = dams.append(hutgyi_dam)\n",
    "print(f'Data contains {len(dams)} planned/identified storage dams')\n",
    "modified_dams_dir, modified_dams_file = os.path.split(usage.modified_dams_shape_path)\n",
    "pathlib.Path(modified_dams_dir).mkdir(parents=True, exist_ok=True)\n",
    "dams.to_file(usage.modified_dams_shape_path)\n",
    "print(f'Saved new dam data to a file {modified_dams_file} in directory {modified_dams_dir}')"
   ]
  },
  {
   "cell_type": "markdown",
   "id": "6324df96",
   "metadata": {},
   "source": [
    "## Delineated watershed shapefiles and rasters"
   ]
  },
  {
   "cell_type": "code",
   "execution_count": 3,
   "id": "bca8217e",
   "metadata": {
    "scrolled": true
   },
   "outputs": [
    {
     "name": "stdout",
     "output_type": "stream",
     "text": [
      "Original DEM size: (64801, 43201), Resampled DEM size: (1, 4320, 2880)\n",
      "/n\n",
      "['./whitebox_tools', '-v=false']\n",
      "DEM data filled using (hydrologciall corrected using data with resoltion 0.06666666666666667)\n",
      "connected cluster inproc://10.0.85.1/62697/1\n",
      "Clipped DEM into using zones as per /home/jojo/futuredam_update/inundation_code/dam_data/sel_basin\n",
      "connected cluster inproc://10.0.85.1/62697/1\n",
      "['./whitebox_tools', '-v=false']\n",
      "['./whitebox_tools', '-v=false']\n",
      "['./whitebox_tools', '-v=false']\n",
      "['./whitebox_tools', '-v=false']\n",
      "['./whitebox_tools', '-v=false']\n",
      "['./whitebox_tools', '-v=false']\n",
      "['./whitebox_tools', '-v=false']\n",
      "connected cluster inproc://10.0.85.1/62697/1\n",
      "['./whitebox_tools', '-v=false']\n",
      "['./whitebox_tools', '-v=false']\n",
      "['./whitebox_tools', '-v=false']\n",
      "['./whitebox_tools', '-v=false']\n",
      "['./whitebox_tools', '-v=false']\n",
      "['./whitebox_tools', '-v=false']\n",
      "['./whitebox_tools', '-v=false']\n",
      "Flow accumulation step compeleted\n",
      "connected cluster inproc://10.0.85.1/62697/1\n",
      "['./whitebox_tools', '-v=false']\n",
      "['./whitebox_tools', '-v=false']\n",
      "['./whitebox_tools', '-v=false']\n",
      "['./whitebox_tools', '-v=false']\n",
      "['./whitebox_tools', '-v=false']\n",
      "['./whitebox_tools', '-v=false']\n",
      "['./whitebox_tools', '-v=false']\n",
      "connected cluster inproc://10.0.85.1/62697/1\n",
      "['./whitebox_tools', '-v=false']\n",
      "['./whitebox_tools', '-v=false']\n",
      "['./whitebox_tools', '-v=false']\n",
      "['./whitebox_tools', '-v=false']\n",
      "['./whitebox_tools', '-v=false']\n",
      "['./whitebox_tools', '-v=false']\n",
      "['./whitebox_tools', '-v=false']\n",
      "Stream extractions compleleted\n",
      "connected cluster inproc://10.0.85.1/62697/1\n",
      "['./whitebox_tools', '-v=false']\n",
      "['./whitebox_tools', '-v=false']\n",
      "['./whitebox_tools', '-v=false']\n",
      "['./whitebox_tools', '-v=false']\n",
      "['./whitebox_tools', '-v=false']\n",
      "['./whitebox_tools', '-v=false']\n",
      "['./whitebox_tools', '-v=false']\n",
      "Points snapped to the nearest stream using snapping distance of 0.6 \n",
      "\n",
      "Please check with GIS visulatization using extracted streams in folder: /home/jojo/futuredam_update/inundation_code/dam_data/result_2/nasa_clipped_dem_stream_shape, and snapped points in folder: /home/jojo/futuredam_update/inundation_code/dam_data/result_2/individual_snapped_dams\n",
      "connected cluster inproc://10.0.85.1/62697/1\n",
      "['./whitebox_tools', '-v=false']\n",
      "connected cluster inproc://10.0.85.1/62697/1\n",
      "['./whitebox_tools', '-v=false']\n",
      "connected cluster inproc://10.0.85.1/62697/1\n",
      "['./whitebox_tools', '-v=false']\n",
      "connected cluster inproc://10.0.85.1/62697/1\n",
      "['./whitebox_tools', '-v=false']\n",
      "connected cluster inproc://10.0.85.1/62697/1\n",
      "['./whitebox_tools', '-v=false']\n",
      "['./whitebox_tools', '-v=false']\n",
      "['./whitebox_tools', '-v=false']\n",
      "['./whitebox_tools', '-v=false']\n",
      "['./whitebox_tools', '-v=false']\n",
      "['./whitebox_tools', '-v=false']\n",
      "['./whitebox_tools', '-v=false']\n",
      "['./whitebox_tools', '-v=false']\n",
      "['./whitebox_tools', '-v=false']\n",
      "['./whitebox_tools', '-v=false']\n",
      "['./whitebox_tools', '-v=false']\n",
      "['./whitebox_tools', '-v=false']\n",
      "['./whitebox_tools', '-v=false']\n",
      "['./whitebox_tools', '-v=false']\n",
      "['./whitebox_tools', '-v=false']\n",
      "['./whitebox_tools', '-v=false']\n",
      "['./whitebox_tools', '-v=false']\n",
      "['./whitebox_tools', '-v=false']\n",
      "['./whitebox_tools', '-v=false']\n",
      "connected cluster inproc://10.0.85.1/62697/1\n",
      "['./whitebox_tools', '-v=false']\n",
      "['./whitebox_tools', '-v=false']\n",
      "connected cluster inproc://10.0.85.1/62697/1\n",
      "['./whitebox_tools', '-v=false']\n",
      "['./whitebox_tools', '-v=false']\n",
      "['./whitebox_tools', '-v=false']\n",
      "['./whitebox_tools', '-v=false']\n",
      "['./whitebox_tools', '-v=false']\n",
      "['./whitebox_tools', '-v=false']\n",
      "['./whitebox_tools', '-v=false']\n",
      "['./whitebox_tools', '-v=false']\n",
      "/home/jojo/futuredam_update/inundation_code/dam_data/result_2/individual_watershed/Sittang_d8_watershed\n",
      "connected cluster inproc://10.0.85.1/62697/1\n",
      "['./whitebox_tools', '-v=false']\n",
      "['./whitebox_tools', '-v=false']\n",
      "/home/jojo/futuredam_update/inundation_code/dam_data/result_2/individual_watershed/s_179_d8_watershed\n",
      "connected cluster inproc://10.0.85.1/62697/1\n",
      "['./whitebox_tools', '-v=false']\n",
      "/home/jojo/futuredam_update/inundation_code/dam_data/result_2/individual_watershed/s_177_d8_watershed\n",
      "connected cluster inproc://10.0.85.1/62697/1\n",
      "['./whitebox_tools', '-v=false']\n",
      "/home/jojo/futuredam_update/inundation_code/dam_data/result_2/individual_watershed/Myanmar_Coast_d8_watershed\n",
      "connected cluster inproc://10.0.85.1/62697/1\n",
      "['./whitebox_tools', '-v=false']\n",
      "/home/jojo/futuredam_update/inundation_code/dam_data/result_2/individual_watershed/Salween_d8_watershed\n",
      "connected cluster inproc://10.0.85.1/62697/1\n",
      "['./whitebox_tools', '-v=false']\n",
      "['./whitebox_tools', '-v=false']\n",
      "['./whitebox_tools', '-v=false']\n",
      "['./whitebox_tools', '-v=false']\n",
      "['./whitebox_tools', '-v=false']\n",
      "['./whitebox_tools', '-v=false']\n",
      "['./whitebox_tools', '-v=false']\n",
      "['./whitebox_tools', '-v=false']\n",
      "/home/jojo/futuredam_update/inundation_code/dam_data/result_2/individual_watershed/Irrawaddy_d8_watershed\n",
      "connected cluster inproc://10.0.85.1/62697/1\n",
      "['./whitebox_tools', '-v=false']\n",
      "['./whitebox_tools', '-v=false']\n",
      "['./whitebox_tools', '-v=false']\n",
      "['./whitebox_tools', '-v=false']\n",
      "['./whitebox_tools', '-v=false']\n",
      "['./whitebox_tools', '-v=false']\n",
      "['./whitebox_tools', '-v=false']\n",
      "['./whitebox_tools', '-v=false']\n",
      "['./whitebox_tools', '-v=false']\n",
      "['./whitebox_tools', '-v=false']\n",
      "['./whitebox_tools', '-v=false']\n",
      "['./whitebox_tools', '-v=false']\n",
      "['./whitebox_tools', '-v=false']\n",
      "['./whitebox_tools', '-v=false']\n",
      "['./whitebox_tools', '-v=false']\n",
      "['./whitebox_tools', '-v=false']\n",
      "['./whitebox_tools', '-v=false']\n",
      "['./whitebox_tools', '-v=false']\n",
      "['./whitebox_tools', '-v=false']\n",
      "/home/jojo/futuredam_update/inundation_code/dam_data/result_2/individual_watershed/lower_d8_watershed\n",
      "connected cluster inproc://10.0.85.1/62697/1\n",
      "['./whitebox_tools', '-v=false']\n",
      "Delineated waterhed shapefiles created in folder: /home/jojo/futuredam_update/inundation_code/dam_data/result_2/watershed_shape\n",
      "CPU times: user 6.75 s, sys: 937 ms, total: 7.69 s\n",
      "Wall time: 57.1 s\n"
     ]
    }
   ],
   "source": [
    "%%time\n",
    "usage.watershed_run()"
   ]
  },
  {
   "cell_type": "markdown",
   "id": "93a5467d",
   "metadata": {},
   "source": [
    "## Inudated area estimation and shapefiles"
   ]
  },
  {
   "cell_type": "code",
   "execution_count": 3,
   "id": "2b4e8653",
   "metadata": {},
   "outputs": [
    {
     "name": "stdout",
     "output_type": "stream",
     "text": [
      "connected cluster inproc://10.0.85.1/69561/1\n",
      "['./whitebox_tools', '-v=false']\n",
      "['./whitebox_tools', '-v=false']\n",
      "['./whitebox_tools', '-v=false']\n",
      "['./whitebox_tools', '-v=false']\n",
      "['./whitebox_tools', '-v=false']\n",
      "['./whitebox_tools', '-v=false']\n",
      "['./whitebox_tools', '-v=false']\n",
      "['./whitebox_tools', '-v=false']\n",
      "['./whitebox_tools', '-v=false']\n",
      "['./whitebox_tools', '-v=false']\n",
      "['./whitebox_tools', '-v=false']\n",
      "['./whitebox_tools', '-v=false']\n",
      "['./whitebox_tools', '-v=false']\n",
      "['./whitebox_tools', '-v=false']\n",
      "['./whitebox_tools', '-v=false']\n",
      "['./whitebox_tools', '-v=false']\n",
      "['./whitebox_tools', '-v=false']\n",
      "['./whitebox_tools', '-v=false']\n",
      "['./whitebox_tools', '-v=false']\n",
      "['./whitebox_tools', '-v=false']\n",
      "['./whitebox_tools', '-v=false']\n",
      "['./whitebox_tools', '-v=false']\n",
      "['./whitebox_tools', '-v=false']\n",
      "['./whitebox_tools', '-v=false']\n",
      "['./whitebox_tools', '-v=false']\n",
      "['./whitebox_tools', '-v=false']\n",
      "['./whitebox_tools', '-v=false']\n",
      "['./whitebox_tools', '-v=false']\n",
      "['./whitebox_tools', '-v=false']\n",
      "['./whitebox_tools', '-v=false']\n",
      "['./whitebox_tools', '-v=false']\n",
      "['./whitebox_tools', '-v=false']\n",
      "['./whitebox_tools', '-v=false']\n",
      "connected cluster inproc://10.0.85.1/69561/1\n",
      "Inudation area shapefiles create. Pelase check fodler: /home/jojo/futuredam_update/inundation_code/dam_data/result_2/inudated_shape_merged\n",
      "CPU times: user 2.93 s, sys: 227 ms, total: 3.15 s\n",
      "Wall time: 3.23 s\n"
     ]
    }
   ],
   "source": [
    "%%time\n",
    "usage.inundation_run()"
   ]
  },
  {
   "cell_type": "code",
   "execution_count": 8,
   "id": "9fcac63e",
   "metadata": {},
   "outputs": [],
   "source": [
    "from whitebox.whitebox_tools import WhiteboxTools as wbt"
   ]
  },
  {
   "cell_type": "code",
   "execution_count": 10,
   "id": "6b4425cc",
   "metadata": {},
   "outputs": [],
   "source": [
    "?wbt.fill_depressions"
   ]
  },
  {
   "cell_type": "code",
   "execution_count": 24,
   "id": "2c85c365",
   "metadata": {},
   "outputs": [
    {
     "data": {
      "text/plain": [
       "'+proj=longlat +datum=WGS84 +no_defs'"
      ]
     },
     "execution_count": 24,
     "metadata": {},
     "output_type": "execute_result"
    }
   ],
   "source": [
    "et.epsg['4326']"
   ]
  }
 ],
 "metadata": {
  "kernelspec": {
   "display_name": "Python 3.10.0 64-bit ('IWMI': conda)",
   "language": "python",
   "name": "python3100jvsc74a57bd05319aad18634dd89b3e46766ffc13680fdd9317ac161bc2f9d47d90207de6356"
  },
  "language_info": {
   "codemirror_mode": {
    "name": "ipython",
    "version": 3
   },
   "file_extension": ".py",
   "mimetype": "text/x-python",
   "name": "python",
   "nbconvert_exporter": "python",
   "pygments_lexer": "ipython3",
   "version": "3.10.0"
  }
 },
 "nbformat": 4,
 "nbformat_minor": 5
}
