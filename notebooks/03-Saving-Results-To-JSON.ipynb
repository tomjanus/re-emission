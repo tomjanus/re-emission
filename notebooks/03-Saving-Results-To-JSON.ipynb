{
 "cells": [
  {
   "cell_type": "markdown",
   "metadata": {},
   "source": [
    "</div>\n",
    "<div>\n",
    "<img src=\"graphics/logo-banner-bw.png\" width=\"500\"/>\n",
    "</div>\n",
    "<div>\n",
    "    <h1 style=\"text-align:center\"> This is the main repository of notebooks which demonstrate the usage of dam-emission </h1>\n",
    "    <h3> This notebook demonstrates how to: </h3>\n",
    " <ol>\n",
    "  <li>Read input data and output configuration YAML file and instantiate the emission model</li>\n",
    "  <li>Add JSON model presenter, calculate emissions and save results to JSON file</li>\n",
    "  <li>Read and display the results saved in JSON format</li>\n",
    "</ol> \n",
    "</div>"
   ]
  },
  {
   "cell_type": "markdown",
   "metadata": {},
   "source": [
    "<!--NAVIGATION-->\n",
    "<font size=\"3\"> < [Automatic Calculation of GHG Emissions](02-Automatic-Calculation-Of-Emissions-For-Batches-Of-Reservoirs.ipynb) | [Contents](index.ipynb) | [Saving Results To LaTeX and PDF](04-Saving-Results-To-LaTeX.ipynb) > </font>\n",
    "\n",
    "<a href=\"https://colab.research.google.com/github/tomjanus/re-emission/blob/master/notebooks/03-Saving-Results-To-JSON.ipynb\"><img align=\"left\" src=\"https://colab.research.google.com/assets/colab-badge.svg\" alt=\"Open in Colab\" title=\"Open and Execute in Google Colaboratory\"></a>"
   ]
  },
  {
   "cell_type": "markdown",
   "metadata": {},
   "source": [
    "### Import the required libraries and RE-Emission classes"
   ]
  },
  {
   "cell_type": "code",
   "execution_count": null,
   "metadata": {},
   "outputs": [],
   "source": [
    "import sys\n",
    "import json\n",
    "sys.path.append(\"..\")\n",
    "# Import from the model module\n",
    "from src.reemission.model import EmissionModel\n",
    "# Import from the input module\n",
    "from src.reemission.input import Inputs\n",
    "# Import from the presenter module\n",
    "from src.reemission.presenter import JSONWriter"
   ]
  },
  {
   "cell_type": "markdown",
   "metadata": {},
   "source": [
    "### 1. Read input data and output configuration YAML file and instantiate the emission model"
   ]
  },
  {
   "cell_type": "code",
   "execution_count": null,
   "metadata": {},
   "outputs": [],
   "source": [
    "input_data = Inputs.fromfile('../tests/test_data/inputs.json')\n",
    "output_config = '../config/emissions/outputs.yaml'\n",
    "model = EmissionModel(inputs=input_data, config=output_config)"
   ]
  },
  {
   "cell_type": "markdown",
   "metadata": {},
   "source": [
    "### 2. Add JSON model presenter, calculate emissions and save results to JSON file"
   ]
  },
  {
   "cell_type": "code",
   "execution_count": null,
   "metadata": {},
   "outputs": [],
   "source": [
    "model.add_presenter(\n",
    "    writers=[JSONWriter],\n",
    "    output_files=['../outputs/output_main_jupyter.json'])\n",
    "model.calculate()\n",
    "model.save_results()"
   ]
  },
  {
   "cell_type": "markdown",
   "metadata": {},
   "source": [
    "### 3. Read and display the results saved in JSON format"
   ]
  },
  {
   "cell_type": "code",
   "execution_count": null,
   "metadata": {},
   "outputs": [],
   "source": [
    "with open('../outputs/output_main_jupyter.json') as json_file:\n",
    "    outputs = json.load(json_file)\n",
    "print(json.dumps(outputs, indent=4))"
   ]
  },
  {
   "cell_type": "markdown",
   "metadata": {},
   "source": [
    "<a href=\"https://colab.research.google.com/github/tomjanus/re-emission/blob/master/notebooks/03-Saving-Results-To-JSON.ipynb\"><img align=\"left\" src=\"https://colab.research.google.com/assets/colab-badge.svg\" alt=\"Open in Colab\" title=\"Open and Execute in Google Colaboratory\"></a>"
   ]
  }
 ],
 "metadata": {
  "kernelspec": {
   "display_name": "Python 3",
   "language": "python",
   "name": "python3"
  },
  "language_info": {
   "codemirror_mode": {
    "name": "ipython",
    "version": 3
   },
   "file_extension": ".py",
   "mimetype": "text/x-python",
   "name": "python",
   "nbconvert_exporter": "python",
   "pygments_lexer": "ipython3",
   "version": "3.8.10"
  }
 },
 "nbformat": 4,
 "nbformat_minor": 4
}
