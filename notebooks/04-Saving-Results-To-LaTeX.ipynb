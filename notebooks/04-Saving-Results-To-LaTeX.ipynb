{
 "cells": [
  {
   "cell_type": "markdown",
   "metadata": {},
   "source": [
    "</div>\n",
    "<div>\n",
    "<img src=\"graphics/logo-banner-bw.png\" width=\"500\"/>\n",
    "</div>\n",
    "<div>\n",
    "    <h1 style=\"text-align:center\"> This is the main repository of notebooks which demonstrate the usage of dam-emission </h1>\n",
    "    <h3> This notebook demonstrates how to: </h3>\n",
    " <ol>\n",
    "  <li>Read input data and output configuration YAML file and instantiate the emission model</li>\n",
    "  <li>Add LaTeX model presenter, calculate emissions and save results to TEX and PDF files</li>\n",
    "  <li>Open the generated PDF document</li>\n",
    "</ol>\n",
    "</div>"
   ]
  },
  {
   "cell_type": "markdown",
   "metadata": {},
   "source": [
    "<!--NAVIGATION-->\n",
    "<font size=\"3\"> < [Saving Results To JSON](03-Saving-Results-To-JSON.ipynb) | [Contents](index.ipynb) | </font>\n",
    "\n",
    "<a href=\"https://colab.research.google.com/github/tomjanus/re-emission/blob/master/notebooks/04-Saving-Results-To-LaTeX.ipynb\"><img align=\"left\" src=\"https://colab.research.google.com/assets/colab-badge.svg\" alt=\"Open in Colab\" title=\"Open and Execute in Google Colaboratory\"></a>"
   ]
  },
  {
   "cell_type": "markdown",
   "metadata": {},
   "source": [
    "### Import the required libraries and RE-Emission classes"
   ]
  },
  {
   "cell_type": "code",
   "execution_count": null,
   "metadata": {},
   "outputs": [],
   "source": [
    "import sys\n",
    "sys.path.append(\"..\")\n",
    "# Import from the model module\n",
    "from src.reemission.model import EmissionModel\n",
    "# Import from the input module\n",
    "from src.reemission.input import Inputs\n",
    "# Import from the presenter module\n",
    "from src.reemission.presenter import LatexWriter"
   ]
  },
  {
   "cell_type": "markdown",
   "metadata": {},
   "source": [
    "### 1. Read input data and output configuration YAML file and instantiate the emission model"
   ]
  },
  {
   "cell_type": "code",
   "execution_count": null,
   "metadata": {},
   "outputs": [],
   "source": [
    "input_data = Inputs.fromfile('../tests/test_data/inputs.json')\n",
    "output_config = '../config/emissions/outputs.yaml'\n",
    "model = EmissionModel(inputs=input_data, config=output_config)"
   ]
  },
  {
   "cell_type": "markdown",
   "metadata": {},
   "source": [
    "### 2. Add LaTeX model presenter, calculate emissions and save results to TEX and PDF files"
   ]
  },
  {
   "cell_type": "code",
   "execution_count": null,
   "metadata": {},
   "outputs": [],
   "source": [
    "model.add_presenter(\n",
    "    writers=[LatexWriter],\n",
    "    output_files=['./outputs/output_main_jupyter.tex'])\n",
    "model.calculate()\n",
    "model.save_results()"
   ]
  },
  {
   "cell_type": "markdown",
   "metadata": {},
   "source": [
    "### 3. Open the generated PDF document"
   ]
  },
  {
   "cell_type": "markdown",
   "metadata": {},
   "source": [
    "[OUTPUTS IN PDF FORMAT](./outputs/output_main_jupyter.pdf)"
   ]
  },
  {
   "cell_type": "markdown",
   "metadata": {},
   "source": [
    "<a href=\"https://colab.research.google.com/github/tomjanus/re-emission/blob/master/notebooks/04-Saving-Results-To-LaTeX.ipynb\"><img align=\"left\" src=\"https://colab.research.google.com/assets/colab-badge.svg\" alt=\"Open in Colab\" title=\"Open and Execute in Google Colaboratory\"></a>"
   ]
  }
 ],
 "metadata": {
  "kernelspec": {
   "display_name": "Python 3",
   "language": "python",
   "name": "python3"
  },
  "language_info": {
   "codemirror_mode": {
    "name": "ipython",
    "version": 3
   },
   "file_extension": ".py",
   "mimetype": "text/x-python",
   "name": "python",
   "nbconvert_exporter": "python",
   "pygments_lexer": "ipython3",
   "version": "3.8.10"
  }
 },
 "nbformat": 4,
 "nbformat_minor": 4
}
