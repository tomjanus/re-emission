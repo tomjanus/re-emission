{
 "cells": [
  {
   "cell_type": "markdown",
   "metadata": {},
   "source": [
    "</div>\n",
    "<div>\n",
    "<img src=\"graphics/logo-banner-bw.png\" width=\"500\"/>\n",
    "</div>\n",
    "<div>\n",
    "    <h2 style=\"text-align:center\"> This is the main repository of notebooks which demonstrate the usage of the RE-Emission Toolbox and its various components </h2>\n",
    "</div>\n",
    "<br>\n",
    "<div style=\"text-align:center\">The code is released under the <a href=\"https://opensource.org/licenses/MIT\">MIT license</a></div>"
   ]
  },
  {
   "cell_type": "markdown",
   "metadata": {},
   "source": [
    "<!--NAVIGATION-->\n",
    "<font size=\"3\"> [Contents](index.ipynb) | [Manual Step-By-Step Calculations](01-Step-By-Step-Manual-Calculations.ipynb) > </font>\n",
    "\n",
    "<a href=\"https://colab.research.google.com/github/tomjanus/re-emission/blob/master/notebooks/index.ipynb\"><img align=\"left\" src=\"https://colab.research.google.com/assets/colab-badge.svg\" alt=\"Open in Colab\" title=\"Open and Execute in Google Colaboratory\"></a>"
   ]
  },
  {
   "cell_type": "markdown",
   "metadata": {},
   "source": [
    "## Table of Contents\n",
    "<font size=\"4\"> 1. [Manual Step-By-Step Calculations](01-Step-By-Step-Manual-Calculations.ipynb)</font>\n",
    "\n",
    "  <i><b>This Notebook demonstrates how to:</b></i>\n",
    "  * Manually construct input data structures for a hypotethical reservoir\n",
    "  * Instantiate Catchment and Reservoir objects </li>\n",
    "  * Calculate $CO_2$, $CH_4$ and $N_2O$ <b>emission factors</b> </li>\n",
    "  * Calculate $CO_2$, $CH_4$ and $N_2O$ <b>emission profiles</b> </li>\n",
    "\n",
    "<font size=\"4\"> 2. [Automatic Calculation Of Batches of Reservoirs](02-Automatic-Calculation-Of-Reservoir-Batches.ipynb)</font>\n",
    "\n",
    "  <i><b>This Notebook demonstrates how to:</b></i>\n",
    "  * Read input data in <b>JSON</b> format and output configuration <b>YAML</b> file\n",
    "  * Instantiate the emission model object from input data output configuration file\n",
    "  * Calculate emissions\n",
    "  * Display model ouptputs\n",
    "  \n",
    "<font size=\"4\"> 3. [Presentation of Results in JSON Format](03-Saving-Results-To-JSON)</font>\n",
    "\n",
    "  <i><b>This Notebook demonstrates how to:</b></i>\n",
    "  * Read input data and output configuration <b>YAML</b> file and instantiate the emission model\n",
    "  * Add <b>JSON</b> model presenter, calculate emissions and save results to <b>JSON</b> file\n",
    "  * Read and display the results saved in <b>JSON</b> format\n",
    "  \n",
    "<font size=\"4\"> 4. [Presentation of Results in PDF Format (via $\\LaTeX$)](04-Saving-Results-To-LaTeX.ipynb)</font>\n",
    "\n",
    "  <i><b>This Notebook demonstrates how to:</b></i>\n",
    "  * Read input data and output configuration <b>YAML</b> file and instantiate the emission model\n",
    "  * Add $\\LaTeX$ model presenter, calculate emissions and save results to $\\TeX$ and <b>PDF</b> files\n",
    "  * Open the generated <b>PDF</b> document"
   ]
  },
  {
   "cell_type": "markdown",
   "metadata": {},
   "source": [
    "<a href=\"https://colab.research.google.com/github/tomjanus/re-emission/blob/master/notebooks/index.ipynb\"><img align=\"left\" src=\"https://colab.research.google.com/assets/colab-badge.svg\" alt=\"Open in Colab\" title=\"Open and Execute in Google Colaboratory\"></a>"
   ]
  }
 ],
 "metadata": {
  "kernelspec": {
   "display_name": "Python 3",
   "language": "python",
   "name": "python3"
  },
  "language_info": {
   "codemirror_mode": {
    "name": "ipython",
    "version": 3
   },
   "file_extension": ".py",
   "mimetype": "text/x-python",
   "name": "python",
   "nbconvert_exporter": "python",
   "pygments_lexer": "ipython3",
   "version": "3.8.10"
  }
 },
 "nbformat": 4,
 "nbformat_minor": 4
}
