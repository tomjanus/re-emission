{
 "cells": [
  {
   "cell_type": "markdown",
   "metadata": {},
   "source": [
    "## Script that runs CO2 emissions on dummy data\n",
    "### Replicates spreadsheet made by Chris Barry called \"ResCO2em_v1_GawLan.xlsx\""
   ]
  },
  {
   "cell_type": "code",
   "execution_count": null,
   "metadata": {},
   "outputs": [],
   "source": [
    "from emissions import CarbonDioxideEmission, MonthlyTemperature\n",
    "from emissions import Landuse, Climate, SoilType"
   ]
  },
  {
   "cell_type": "code",
   "execution_count": null,
   "metadata": {},
   "outputs": [],
   "source": [
    "mt = MonthlyTemperature([10.56,11.99,15.46,18.29,20.79,22.09,22.46,22.66,21.93,19.33,15.03,11.66])"
   ]
  },
  {
   "cell_type": "code",
   "execution_count": null,
   "metadata": {},
   "outputs": [],
   "source": [
    "# Define hypothetical input data\n",
    "input_data = {\"catchment_area\":78203.04518,\n",
    "              \"reservoir_area\":0.5647019517,\n",
    "              \"eff_temp\": mt.calculate_eff_temp(),\n",
    "              \"soil_carbon\": 10.2276688453159,\n",
    "              \"reservoir_tp\": 10.197}"
   ]
  },
  {
   "cell_type": "code",
   "execution_count": null,
   "metadata": {},
   "outputs": [],
   "source": [
    "# Instantiate first emission calculatoin with the input data\n",
    "em_1 = CarbonDioxideEmission(**input_data)"
   ]
  },
  {
   "cell_type": "code",
   "execution_count": null,
   "metadata": {},
   "outputs": [],
   "source": [
    "area_fractions = [0,0,0,0,0,0,0,1]\n",
    "year_profile = (1, 5, 10, 20, 30, 40, 50, 100)"
   ]
  },
  {
   "cell_type": "code",
   "execution_count": null,
   "metadata": {},
   "outputs": [],
   "source": [
    "# Calculate emission profile\n",
    "prof = em_1.calculate_profile(\n",
    "    area_fractions,\n",
    "    climate=Climate.TROPICAL,\n",
    "    soil_type=SoilType.MINERAL,\n",
    "    years = year_profile)\n",
    "print('Emissions (g CO2eq m-2 yr-1): ', *[\"%.2f\" % flux for flux in prof], sep='\\n- ')    "
   ]
  },
  {
   "cell_type": "code",
   "execution_count": null,
   "metadata": {},
   "outputs": [],
   "source": [
    "tot_emission = em_1.calculate_total(area_fractions, climate=Climate.TROPICAL, soil_type=SoilType.MINERAL)\n",
    "print('Total Emission (g CO2eq m-2 yr-1): ', \"%.2f\" % tot_emission)"
   ]
  },
  {
   "cell_type": "code",
   "execution_count": null,
   "metadata": {},
   "outputs": [],
   "source": [
    "import matplotlib.pyplot as plt\n",
    "plt.plot(year_profile, prof, 'r-o') \n",
    "plt.xlabel('Years') \n",
    "plt.ylabel('Emissions, g CO2eq m-2 yr-1') \n",
    "plt.title('CO2 emission profile for hypothetical data') \n",
    "plt.show()"
   ]
  },
  {
   "cell_type": "code",
   "execution_count": null,
   "metadata": {},
   "outputs": [],
   "source": []
  }
 ],
 "metadata": {
  "kernelspec": {
   "display_name": "Python 3",
   "language": "python",
   "name": "python3"
  },
  "language_info": {
   "codemirror_mode": {
    "name": "ipython",
    "version": 3
   },
   "file_extension": ".py",
   "mimetype": "text/x-python",
   "name": "python",
   "nbconvert_exporter": "python",
   "pygments_lexer": "ipython3",
   "version": "3.8.10"
  }
 },
 "nbformat": 4,
 "nbformat_minor": 4
}
