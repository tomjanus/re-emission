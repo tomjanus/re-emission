{
 "cells": [
  {
   "cell_type": "markdown",
   "metadata": {},
   "source": [
    "# Test biogenic greenhouse gas emissions on a hypothetical reservoir"
   ]
  },
  {
   "cell_type": "code",
   "execution_count": null,
   "metadata": {},
   "outputs": [],
   "source": [
    "from src.emissions.temperature import MonthlyTemperature\n",
    "from src.emissions.emissions import CarbonDioxideEmission, NitrousOxideEmission\n",
    "from src.emissions.constants import Landuse, Climate, SoilType, Biome, TreatmentFactor, LanduseIntensity\n",
    "from src.emissions.catchment import Catchment\n",
    "from src.emissions.reservoir import Reservoir\n",
    "from src.emissions.biogenic import BiogenicFactors\n",
    "import matplotlib.pyplot as plt"
   ]
  },
  {
   "cell_type": "markdown",
   "metadata": {},
   "source": [
    "### 1. Define Input Data"
   ]
  },
  {
   "cell_type": "code",
   "execution_count": null,
   "metadata": {},
   "outputs": [],
   "source": [
    "# Monthly Temperature Profile\n",
    "mt = MonthlyTemperature([10.56,11.99,15.46,18.29,20.79,22.09,22.46,22.66,21.93,19.33,15.03,11.66])\n",
    "# Categorical properties\n",
    "biogenic_factors = BiogenicFactors(biome = Biome.TROPICALMOISTBROADLEAF,\n",
    "                                   climate = Climate.TROPICAL,\n",
    "                                   soil_type=SoilType.MINERAL,\n",
    "                                   treatment_factor = TreatmentFactor.NONE,\n",
    "                                   landuse_intensity = LanduseIntensity.LOW)\n",
    "# Area fractions\n",
    "catchment_area_fractions = [0.0, 0.0, 0.0, 0.0, 0.0, 0.01092, 0.11996, 0.867257]\n",
    "reservoir_area_fractions = [0.0, 0.0, 0.0, 0.0, 0.0, 0.0, 0.0, 1.0]\n",
    "# Catchment inputs\n",
    "catchment_inputs = {'runoff': 1685.5619, 'area': 78203.0, 'population': 8463, \n",
    "                    'area_fractions': catchment_area_fractions, 'slope': 8.0, 'precip': 2000.0, \n",
    "                    'etransp': 400.0, 'soil_wetness': 140.0, 'biogenic_factors': biogenic_factors}\n",
    "# Reservoir inputs\n",
    "reservoir_inputs = {'volume': 7663812, 'area': 0.56470,\n",
    "                   'area_fractions': reservoir_area_fractions,\n",
    "                   'soil_carbon': 10.228}"
   ]
  },
  {
   "cell_type": "markdown",
   "metadata": {},
   "source": [
    "### 2. Initialize Catchment and Reservoir Objects"
   ]
  },
  {
   "cell_type": "code",
   "execution_count": null,
   "metadata": {},
   "outputs": [],
   "source": [
    "# Initialize objects\n",
    "catchment_1 = Catchment(**catchment_inputs)\n",
    "reservoir_1 = Reservoir(**reservoir_inputs, inflow_rate=catchment_1.discharge)"
   ]
  },
  {
   "cell_type": "markdown",
   "metadata": {},
   "source": [
    "### 3. Calculate CO2 emissions"
   ]
  },
  {
   "cell_type": "code",
   "execution_count": null,
   "metadata": {},
   "outputs": [],
   "source": [
    "# Calculate CO2 emissions\n",
    "em_co2 = CarbonDioxideEmission(catchment=catchment_1, reservoir=reservoir_1, eff_temp=mt.eff_temp(),\n",
    "                               p_calc_method='g-res')\n",
    "# Calculate CO2 emission profile and CO2 emmision factor\n",
    "year_profile = (1, 5, 10, 20, 30, 40, 50, 100)\n",
    "\n",
    "co2_emission_profile = em_co2.profile(years = year_profile)\n",
    "co2_emission_factor = em_co2.factor(number_of_years = year_profile[-1])\n",
    "print('CO2 emission profile (g CO2eq m-2 yr-1): ', *[\n",
    "    \"Year: %d \\t Emission: %.2f\" % (year, flux) for year, flux in zip(\n",
    "        year_profile, co2_emission_profile)], sep='\\n* ')   "
   ]
  },
  {
   "cell_type": "code",
   "execution_count": null,
   "metadata": {},
   "outputs": [],
   "source": [
    "print('CO2 emission factor (g CO2eq m-2 yr-1): ', \"%.2f\" % co2_emission_factor)"
   ]
  },
  {
   "cell_type": "code",
   "execution_count": null,
   "metadata": {},
   "outputs": [],
   "source": [
    "plt.plot(year_profile, co2_emission_profile, 'r-o') \n",
    "plt.xlabel('Years') \n",
    "plt.ylabel('Emissions, g CO2eq m-2 yr-1') \n",
    "plt.title('CO2 emission profile for hypothetical data') \n",
    "plt.show()"
   ]
  },
  {
   "cell_type": "code",
   "execution_count": null,
   "metadata": {},
   "outputs": [],
   "source": [
    "em_n2o = NitrousOxideEmission(catchment=catchment_1, reservoir=reservoir_1, model='model 1')"
   ]
  },
  {
   "cell_type": "code",
   "execution_count": null,
   "metadata": {},
   "outputs": [],
   "source": [
    "n2o_emission_factor = em_n2o.factor()\n",
    "n2o_emission_profile = em_n2o.profile(years = year_profile)\n",
    "print('N2O emission profile (g CO2eq m-2 yr-1): ', *[\n",
    "    \"Year: %d \\t Emission: %.2f\" % (year, flux) for year, flux in zip(\n",
    "        year_profile, n2o_emission_profile)], sep='\\n* ')   "
   ]
  },
  {
   "cell_type": "code",
   "execution_count": null,
   "metadata": {},
   "outputs": [],
   "source": [
    "print('N2O emission factor (g CO2eq m-2 yr-1): ', \"%.2f\" % n2o_emission_factor)"
   ]
  },
  {
   "cell_type": "code",
   "execution_count": null,
   "metadata": {},
   "outputs": [],
   "source": [
    "plt.plot(year_profile, n2o_emission_profile, 'r-o') \n",
    "plt.xlabel('Years') \n",
    "plt.ylabel('Emissions, g CO2eq m-2 yr-1') \n",
    "plt.title('N2O emission profile for hypothetical data') \n",
    "plt.show()"
   ]
  }
 ],
 "metadata": {
  "kernelspec": {
   "display_name": "Python 3",
   "language": "python",
   "name": "python3"
  },
  "language_info": {
   "codemirror_mode": {
    "name": "ipython",
    "version": 3
   },
   "file_extension": ".py",
   "mimetype": "text/x-python",
   "name": "python",
   "nbconvert_exporter": "python",
   "pygments_lexer": "ipython3",
   "version": "3.8.10"
  }
 },
 "nbformat": 4,
 "nbformat_minor": 4
}
