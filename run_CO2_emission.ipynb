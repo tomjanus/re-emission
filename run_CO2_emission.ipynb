{
 "cells": [
  {
   "cell_type": "markdown",
   "metadata": {},
   "source": [
    "## Script that runs CO2 emissions on dummy data\n",
    "### Replicates spreadsheet made by Chris Barry called \"ResCO2em_v1_GawLan.xlsx\""
   ]
  },
  {
   "cell_type": "code",
   "execution_count": 11,
   "metadata": {},
   "outputs": [],
   "source": [
    "from emissions import CarbonDioxideEmission, MonthlyTemperature\n",
    "from emissions import Landuse, Climate, SoilType"
   ]
  },
  {
   "cell_type": "code",
   "execution_count": 12,
   "metadata": {},
   "outputs": [],
   "source": [
    "mt = MonthlyTemperature([10.56,11.99,15.46,18.29,20.79,22.09,22.46,22.66,21.93,19.33,15.03,11.66])"
   ]
  },
  {
   "cell_type": "code",
   "execution_count": 13,
   "metadata": {},
   "outputs": [],
   "source": [
    "# Define hypothetical input data\n",
    "input_data = {\"catchment_area\": 78203.04518,\n",
    "              \"reservoir_area\": 0.5647019517,\n",
    "              \"area_fractions\": [0,0,0,0,0,0,0,1],\n",
    "              \"eff_temp\": mt.calculate_eff_temp(),\n",
    "              \"soil_carbon\": 10.2276688453159,\n",
    "              \"reservoir_tp\": 10.197}"
   ]
  },
  {
   "cell_type": "code",
   "execution_count": 14,
   "metadata": {},
   "outputs": [],
   "source": [
    "# Instantiate first emission calculatoin with the input data\n",
    "em_1 = CarbonDioxideEmission(**input_data)"
   ]
  },
  {
   "cell_type": "code",
   "execution_count": 15,
   "metadata": {},
   "outputs": [
    {
     "name": "stdout",
     "output_type": "stream",
     "text": [
      "Emissions (g CO2eq m-2 yr-1): \n",
      "- 735.83\n",
      "- 421.58\n",
      "- 329.89\n",
      "- 256.95\n",
      "- 221.41\n",
      "- 198.92\n",
      "- 182.89\n",
      "- 140.00\n"
     ]
    }
   ],
   "source": [
    "# Calculate emission profile\n",
    "year_profile = (1, 5, 10, 20, 30, 40, 50, 100)\n",
    "\n",
    "prof = em_1.calculate_profile(\n",
    "    climate=Climate.TROPICAL,\n",
    "    soil_type=SoilType.MINERAL,\n",
    "    years = year_profile)\n",
    "print('Emissions (g CO2eq m-2 yr-1): ', *[\"%.2f\" % flux for flux in prof], sep='\\n- ')    "
   ]
  },
  {
   "cell_type": "code",
   "execution_count": 16,
   "metadata": {},
   "outputs": [
    {
     "name": "stdout",
     "output_type": "stream",
     "text": [
      "Total Emission (g CO2eq m-2 yr-1):  216.25\n"
     ]
    }
   ],
   "source": [
    "tot_emission = em_1.calculate_total(climate=Climate.TROPICAL, soil_type=SoilType.MINERAL)\n",
    "print('Total Emission (g CO2eq m-2 yr-1): ', \"%.2f\" % tot_emission)"
   ]
  },
  {
   "cell_type": "code",
   "execution_count": 17,
   "metadata": {},
   "outputs": [
    {
     "data": {
      "image/png": "[encoded data removed]",
      "text/plain": [
       "<Figure size 432x288 with 1 Axes>"
      ]
     },
     "metadata": {
      "needs_background": "light"
     },
     "output_type": "display_data"
    }
   ],
   "source": [
    "import matplotlib.pyplot as plt\n",
    "plt.plot(year_profile, prof, 'r-o') \n",
    "plt.xlabel('Years') \n",
    "plt.ylabel('Emissions, g CO2eq m-2 yr-1') \n",
    "plt.title('CO2 emission profile for hypothetical data') \n",
    "plt.show()"
   ]
  },
  {
   "cell_type": "code",
   "execution_count": null,
   "metadata": {},
   "outputs": [],
   "source": []
  },
  {
   "cell_type": "code",
   "execution_count": null,
   "metadata": {},
   "outputs": [],
   "source": []
  }
 ],
 "metadata": {
  "kernelspec": {
   "display_name": "Python 3",
   "language": "python",
   "name": "python3"
  },
  "language_info": {
   "codemirror_mode": {
    "name": "ipython",
    "version": 3
   },
   "file_extension": ".py",
   "mimetype": "text/x-python",
   "name": "python",
   "nbconvert_exporter": "python",
   "pygments_lexer": "ipython3",
   "version": "3.8.10"
  }
 },
 "nbformat": 4,
 "nbformat_minor": 4
}
